{
  "cells": [
    {
      "attachments": {},
      "cell_type": "markdown",
      "metadata": {
        "id": "wcsPGCX91Zj5"
      },
      "source": []
    },
    {
      "cell_type": "markdown",
      "metadata": {
        "id": "V8bfBs9DE69b"
      },
      "source": [
        "**Import Libraries**"
      ]
    },
    {
      "cell_type": "code",
      "execution_count": null,
      "metadata": {
        "id": "oQiHOPo4YDVb"
      },
      "outputs": [],
      "source": []
    },
    {
      "cell_type": "markdown",
      "metadata": {
        "id": "KMRNw31XE-wd"
      },
      "source": [
        "**Load the data**"
      ]
    },
    {
      "cell_type": "code",
      "execution_count": null,
      "metadata": {
        "id": "2wuGMSPrY5uN"
      },
      "outputs": [],
      "source": []
    },
    {
      "cell_type": "code",
      "execution_count": null,
      "metadata": {
        "colab": {
          "base_uri": "https://localhost:8080/"
        },
        "id": "R5i87pFdY7_j",
        "outputId": "758ddd8f-c4a0-423b-837c-9fea35c68e66"
      },
      "outputs": [
        {
          "name": "stdout",
          "output_type": "stream",
          "text": [
            "Warning: Your Kaggle API key is readable by other users on this system! To fix this, you can run 'chmod 600 /content/kaggle.json'\n",
            "Downloading digit-recognizer.zip to /content\n",
            " 59% 9.00M/15.3M [00:00<00:00, 37.6MB/s]\n",
            "100% 15.3M/15.3M [00:00<00:00, 56.8MB/s]\n",
            "Archive:  digit-recognizer.zip\n",
            "  inflating: sample_submission.csv   \n",
            "  inflating: test.csv                \n",
            "  inflating: train.csv               \n"
          ]
        }
      ],
      "source": []
    },
    {
      "cell_type": "code",
      "execution_count": null,
      "metadata": {
        "colab": {
          "base_uri": "https://localhost:8080/",
          "height": 299
        },
        "id": "ApzZV8oTYxtm",
        "outputId": "16713a62-69ae-4ff1-a433-b9499514c6fd"
      },
      "outputs": [
        {
          "data": {
            "text/html": [
              "\n",
              "  <div id=\"df-17396fa1-9d30-485e-9916-b279ac8c7db1\">\n",
              "    <div class=\"colab-df-container\">\n",
              "      <div>\n",
              "<style scoped>\n",
              "    .dataframe tbody tr th:only-of-type {\n",
              "        vertical-align: middle;\n",
              "    }\n",
              "\n",
              "    .dataframe tbody tr th {\n",
              "        vertical-align: top;\n",
              "    }\n",
              "\n",
              "    .dataframe thead th {\n",
              "        text-align: right;\n",
              "    }\n",
              "</style>\n",
              "<table border=\"1\" class=\"dataframe\">\n",
              "  <thead>\n",
              "    <tr style=\"text-align: right;\">\n",
              "      <th></th>\n",
              "      <th>label</th>\n",
              "      <th>pixel0</th>\n",
              "      <th>pixel1</th>\n",
              "      <th>pixel2</th>\n",
              "      <th>pixel3</th>\n",
              "      <th>pixel4</th>\n",
              "      <th>pixel5</th>\n",
              "      <th>pixel6</th>\n",
              "      <th>pixel7</th>\n",
              "      <th>pixel8</th>\n",
              "      <th>...</th>\n",
              "      <th>pixel774</th>\n",
              "      <th>pixel775</th>\n",
              "      <th>pixel776</th>\n",
              "      <th>pixel777</th>\n",
              "      <th>pixel778</th>\n",
              "      <th>pixel779</th>\n",
              "      <th>pixel780</th>\n",
              "      <th>pixel781</th>\n",
              "      <th>pixel782</th>\n",
              "      <th>pixel783</th>\n",
              "    </tr>\n",
              "  </thead>\n",
              "  <tbody>\n",
              "    <tr>\n",
              "      <th>0</th>\n",
              "      <td>1</td>\n",
              "      <td>0</td>\n",
              "      <td>0</td>\n",
              "      <td>0</td>\n",
              "      <td>0</td>\n",
              "      <td>0</td>\n",
              "      <td>0</td>\n",
              "      <td>0</td>\n",
              "      <td>0</td>\n",
              "      <td>0</td>\n",
              "      <td>...</td>\n",
              "      <td>0</td>\n",
              "      <td>0</td>\n",
              "      <td>0</td>\n",
              "      <td>0</td>\n",
              "      <td>0</td>\n",
              "      <td>0</td>\n",
              "      <td>0</td>\n",
              "      <td>0</td>\n",
              "      <td>0</td>\n",
              "      <td>0</td>\n",
              "    </tr>\n",
              "    <tr>\n",
              "      <th>1</th>\n",
              "      <td>0</td>\n",
              "      <td>0</td>\n",
              "      <td>0</td>\n",
              "      <td>0</td>\n",
              "      <td>0</td>\n",
              "      <td>0</td>\n",
              "      <td>0</td>\n",
              "      <td>0</td>\n",
              "      <td>0</td>\n",
              "      <td>0</td>\n",
              "      <td>...</td>\n",
              "      <td>0</td>\n",
              "      <td>0</td>\n",
              "      <td>0</td>\n",
              "      <td>0</td>\n",
              "      <td>0</td>\n",
              "      <td>0</td>\n",
              "      <td>0</td>\n",
              "      <td>0</td>\n",
              "      <td>0</td>\n",
              "      <td>0</td>\n",
              "    </tr>\n",
              "    <tr>\n",
              "      <th>2</th>\n",
              "      <td>1</td>\n",
              "      <td>0</td>\n",
              "      <td>0</td>\n",
              "      <td>0</td>\n",
              "      <td>0</td>\n",
              "      <td>0</td>\n",
              "      <td>0</td>\n",
              "      <td>0</td>\n",
              "      <td>0</td>\n",
              "      <td>0</td>\n",
              "      <td>...</td>\n",
              "      <td>0</td>\n",
              "      <td>0</td>\n",
              "      <td>0</td>\n",
              "      <td>0</td>\n",
              "      <td>0</td>\n",
              "      <td>0</td>\n",
              "      <td>0</td>\n",
              "      <td>0</td>\n",
              "      <td>0</td>\n",
              "      <td>0</td>\n",
              "    </tr>\n",
              "    <tr>\n",
              "      <th>3</th>\n",
              "      <td>4</td>\n",
              "      <td>0</td>\n",
              "      <td>0</td>\n",
              "      <td>0</td>\n",
              "      <td>0</td>\n",
              "      <td>0</td>\n",
              "      <td>0</td>\n",
              "      <td>0</td>\n",
              "      <td>0</td>\n",
              "      <td>0</td>\n",
              "      <td>...</td>\n",
              "      <td>0</td>\n",
              "      <td>0</td>\n",
              "      <td>0</td>\n",
              "      <td>0</td>\n",
              "      <td>0</td>\n",
              "      <td>0</td>\n",
              "      <td>0</td>\n",
              "      <td>0</td>\n",
              "      <td>0</td>\n",
              "      <td>0</td>\n",
              "    </tr>\n",
              "    <tr>\n",
              "      <th>4</th>\n",
              "      <td>0</td>\n",
              "      <td>0</td>\n",
              "      <td>0</td>\n",
              "      <td>0</td>\n",
              "      <td>0</td>\n",
              "      <td>0</td>\n",
              "      <td>0</td>\n",
              "      <td>0</td>\n",
              "      <td>0</td>\n",
              "      <td>0</td>\n",
              "      <td>...</td>\n",
              "      <td>0</td>\n",
              "      <td>0</td>\n",
              "      <td>0</td>\n",
              "      <td>0</td>\n",
              "      <td>0</td>\n",
              "      <td>0</td>\n",
              "      <td>0</td>\n",
              "      <td>0</td>\n",
              "      <td>0</td>\n",
              "      <td>0</td>\n",
              "    </tr>\n",
              "  </tbody>\n",
              "</table>\n",
              "<p>5 rows × 785 columns</p>\n",
              "</div>\n",
              "      <button class=\"colab-df-convert\" onclick=\"convertToInteractive('df-17396fa1-9d30-485e-9916-b279ac8c7db1')\"\n",
              "              title=\"Convert this dataframe to an interactive table.\"\n",
              "              style=\"display:none;\">\n",
              "        \n",
              "  <svg xmlns=\"http://www.w3.org/2000/svg\" height=\"24px\"viewBox=\"0 0 24 24\"\n",
              "       width=\"24px\">\n",
              "    <path d=\"M0 0h24v24H0V0z\" fill=\"none\"/>\n",
              "    <path d=\"M18.56 5.44l.94 2.06.94-2.06 2.06-.94-2.06-.94-.94-2.06-.94 2.06-2.06.94zm-11 1L8.5 8.5l.94-2.06 2.06-.94-2.06-.94L8.5 2.5l-.94 2.06-2.06.94zm10 10l.94 2.06.94-2.06 2.06-.94-2.06-.94-.94-2.06-.94 2.06-2.06.94z\"/><path d=\"M17.41 7.96l-1.37-1.37c-.4-.4-.92-.59-1.43-.59-.52 0-1.04.2-1.43.59L10.3 9.45l-7.72 7.72c-.78.78-.78 2.05 0 2.83L4 21.41c.39.39.9.59 1.41.59.51 0 1.02-.2 1.41-.59l7.78-7.78 2.81-2.81c.8-.78.8-2.07 0-2.86zM5.41 20L4 18.59l7.72-7.72 1.47 1.35L5.41 20z\"/>\n",
              "  </svg>\n",
              "      </button>\n",
              "      \n",
              "  <style>\n",
              "    .colab-df-container {\n",
              "      display:flex;\n",
              "      flex-wrap:wrap;\n",
              "      gap: 12px;\n",
              "    }\n",
              "\n",
              "    .colab-df-convert {\n",
              "      background-color: #E8F0FE;\n",
              "      border: none;\n",
              "      border-radius: 50%;\n",
              "      cursor: pointer;\n",
              "      display: none;\n",
              "      fill: #1967D2;\n",
              "      height: 32px;\n",
              "      padding: 0 0 0 0;\n",
              "      width: 32px;\n",
              "    }\n",
              "\n",
              "    .colab-df-convert:hover {\n",
              "      background-color: #E2EBFA;\n",
              "      box-shadow: 0px 1px 2px rgba(60, 64, 67, 0.3), 0px 1px 3px 1px rgba(60, 64, 67, 0.15);\n",
              "      fill: #174EA6;\n",
              "    }\n",
              "\n",
              "    [theme=dark] .colab-df-convert {\n",
              "      background-color: #3B4455;\n",
              "      fill: #D2E3FC;\n",
              "    }\n",
              "\n",
              "    [theme=dark] .colab-df-convert:hover {\n",
              "      background-color: #434B5C;\n",
              "      box-shadow: 0px 1px 3px 1px rgba(0, 0, 0, 0.15);\n",
              "      filter: drop-shadow(0px 1px 2px rgba(0, 0, 0, 0.3));\n",
              "      fill: #FFFFFF;\n",
              "    }\n",
              "  </style>\n",
              "\n",
              "      <script>\n",
              "        const buttonEl =\n",
              "          document.querySelector('#df-17396fa1-9d30-485e-9916-b279ac8c7db1 button.colab-df-convert');\n",
              "        buttonEl.style.display =\n",
              "          google.colab.kernel.accessAllowed ? 'block' : 'none';\n",
              "\n",
              "        async function convertToInteractive(key) {\n",
              "          const element = document.querySelector('#df-17396fa1-9d30-485e-9916-b279ac8c7db1');\n",
              "          const dataTable =\n",
              "            await google.colab.kernel.invokeFunction('convertToInteractive',\n",
              "                                                     [key], {});\n",
              "          if (!dataTable) return;\n",
              "\n",
              "          const docLinkHtml = 'Like what you see? Visit the ' +\n",
              "            '<a target=\"_blank\" href=https://colab.research.google.com/notebooks/data_table.ipynb>data table notebook</a>'\n",
              "            + ' to learn more about interactive tables.';\n",
              "          element.innerHTML = '';\n",
              "          dataTable['output_type'] = 'display_data';\n",
              "          await google.colab.output.renderOutput(dataTable, element);\n",
              "          const docLink = document.createElement('div');\n",
              "          docLink.innerHTML = docLinkHtml;\n",
              "          element.appendChild(docLink);\n",
              "        }\n",
              "      </script>\n",
              "    </div>\n",
              "  </div>\n",
              "  "
            ],
            "text/plain": [
              "   label  pixel0  pixel1  pixel2  pixel3  pixel4  pixel5  pixel6  pixel7  \\\n",
              "0      1       0       0       0       0       0       0       0       0   \n",
              "1      0       0       0       0       0       0       0       0       0   \n",
              "2      1       0       0       0       0       0       0       0       0   \n",
              "3      4       0       0       0       0       0       0       0       0   \n",
              "4      0       0       0       0       0       0       0       0       0   \n",
              "\n",
              "   pixel8  ...  pixel774  pixel775  pixel776  pixel777  pixel778  pixel779  \\\n",
              "0       0  ...         0         0         0         0         0         0   \n",
              "1       0  ...         0         0         0         0         0         0   \n",
              "2       0  ...         0         0         0         0         0         0   \n",
              "3       0  ...         0         0         0         0         0         0   \n",
              "4       0  ...         0         0         0         0         0         0   \n",
              "\n",
              "   pixel780  pixel781  pixel782  pixel783  \n",
              "0         0         0         0         0  \n",
              "1         0         0         0         0  \n",
              "2         0         0         0         0  \n",
              "3         0         0         0         0  \n",
              "4         0         0         0         0  \n",
              "\n",
              "[5 rows x 785 columns]"
            ]
          },
          "execution_count": 4,
          "metadata": {},
          "output_type": "execute_result"
        }
      ],
      "source": [
        "df = pd.read_csv(\"train.csv\")\n",
        "df.head()"
      ]
    },
    {
      "cell_type": "code",
      "execution_count": null,
      "metadata": {
        "id": "6wZ-mY8vYxoD"
      },
      "outputs": [],
      "source": [
        "x = df.drop('label', axis=1).values\n",
        "y = df['label'].values"
      ]
    },
    {
      "cell_type": "markdown",
      "metadata": {
        "id": "5-IKXwAZFj6g"
      },
      "source": [
        "**Exercise 1: Perform handwritten digit classification using Support Vector Machine (SVM) model. Plot “hyperparameter vs. train-accuracy” and “hyperparameter vs. cv-accuracy” graphs. Measure model performance on test data using following metrics: accuracy, confusion matrix, precision, recall and F1 Score.**\n"
      ]
    },
    {
      "cell_type": "markdown",
      "metadata": {
        "id": "7JMo1qPKFDcm"
      },
      "source": [
        "**Splitting data into Train and test sets with Stratified Sampling using train_test_split()**"
      ]
    },
    {
      "cell_type": "code",
      "execution_count": null,
      "metadata": {
        "id": "T1vm14ZWY0-5"
      },
      "outputs": [],
      "source": [
        "X_train, X_test, y_train, y_test = train_test_split(x, y, test_size=0.8, random_state = 42)"
      ]
    },
    {
      "cell_type": "code",
      "execution_count": null,
      "metadata": {
        "colab": {
          "base_uri": "https://localhost:8080/"
        },
        "id": "BPjXSIeDZJZQ",
        "outputId": "ea3be694-c0f9-4e77-a648-187032682d8b"
      },
      "outputs": [
        {
          "name": "stdout",
          "output_type": "stream",
          "text": [
            "Fitting 4 folds for each of 4 candidates, totalling 16 fits\n"
          ]
        },
        {
          "data": {
            "text/plain": [
              "GridSearchCV(cv=4, estimator=SVC(), n_jobs=-1,\n",
              "             param_grid={'gamma': ['scale', 'auto'],\n",
              "                         'kernel': ['linear', 'rbf']},\n",
              "             return_train_score=True, verbose=2)"
            ]
          },
          "execution_count": 8,
          "metadata": {},
          "output_type": "execute_result"
        }
      ],
      "source": [
        "parameters = {'kernel':['linear', 'rbf'], 'gamma':['scale', 'auto']}\n",
        "grid = GridSearchCV(estimator=SVC(), param_grid=parameters, cv=4, verbose=2, n_jobs=-1, return_train_score=True)\n",
        "grid.fit(X_train, y_train)"
      ]
    },
    {
      "cell_type": "code",
      "execution_count": null,
      "metadata": {
        "colab": {
          "base_uri": "https://localhost:8080/"
        },
        "id": "XU7TA0AwZLSL",
        "outputId": "9515fd46-6b9f-4ab0-f838-31dddd227aa7"
      },
      "outputs": [
        {
          "data": {
            "text/plain": [
              "{'mean_fit_time': array([ 7.63054675, 15.91091096,  6.54129779, 73.60623616]),\n",
              " 'std_fit_time': array([1.85191375, 0.88296006, 0.41613358, 1.45455974]),\n",
              " 'mean_score_time': array([ 3.85800904,  9.77248847,  3.76519483, 19.33980739]),\n",
              " 'std_score_time': array([0.1880982 , 1.88898342, 0.15057636, 2.26061214]),\n",
              " 'param_gamma': masked_array(data=['scale', 'scale', 'auto', 'auto'],\n",
              "              mask=[False, False, False, False],\n",
              "        fill_value='?',\n",
              "             dtype=object),\n",
              " 'param_kernel': masked_array(data=['linear', 'rbf', 'linear', 'rbf'],\n",
              "              mask=[False, False, False, False],\n",
              "        fill_value='?',\n",
              "             dtype=object),\n",
              " 'params': [{'gamma': 'scale', 'kernel': 'linear'},\n",
              "  {'gamma': 'scale', 'kernel': 'rbf'},\n",
              "  {'gamma': 'auto', 'kernel': 'linear'},\n",
              "  {'gamma': 'auto', 'kernel': 'rbf'}],\n",
              " 'split0_test_score': array([0.90666667, 0.94952381, 0.90666667, 0.11047619]),\n",
              " 'split1_test_score': array([0.90142857, 0.9547619 , 0.90142857, 0.11047619]),\n",
              " 'split2_test_score': array([0.91761905, 0.95142857, 0.91761905, 0.11095238]),\n",
              " 'split3_test_score': array([0.91190476, 0.96428571, 0.91190476, 0.11047619]),\n",
              " 'mean_test_score': array([0.90940476, 0.955     , 0.90940476, 0.11059524]),\n",
              " 'std_test_score': array([0.0060175 , 0.00567946, 0.0060175 , 0.0002062 ]),\n",
              " 'rank_test_score': array([2, 1, 2, 4], dtype=int32),\n",
              " 'split0_train_score': array([1.        , 0.98571429, 1.        , 1.        ]),\n",
              " 'split1_train_score': array([1.        , 0.98460317, 1.        , 1.        ]),\n",
              " 'split2_train_score': array([1.        , 0.98761905, 1.        , 1.        ]),\n",
              " 'split3_train_score': array([1.        , 0.98460317, 1.        , 1.        ]),\n",
              " 'mean_train_score': array([1.        , 0.98563492, 1.        , 1.        ]),\n",
              " 'std_train_score': array([0.        , 0.00123208, 0.        , 0.        ])}"
            ]
          },
          "execution_count": 9,
          "metadata": {},
          "output_type": "execute_result"
        }
      ],
      "source": [
        "grid.cv_results_"
      ]
    },
    {
      "cell_type": "markdown",
      "metadata": {
        "id": "thSqflghFODK"
      },
      "source": [
        "**Plotting Graphs CV-accuracy vs Hyperparameters**"
      ]
    },
    {
      "cell_type": "code",
      "execution_count": null,
      "metadata": {
        "colab": {
          "base_uri": "https://localhost:8080/",
          "height": 283
        },
        "id": "E3CpHLmOZPIV",
        "outputId": "7880ab7b-5a16-4bd2-fddb-3b3bf5bc8fb7"
      },
      "outputs": [
        {
          "data": {
            "image/png": "[encoded data removed]",
            "text/plain": [
              "<Figure size 432x288 with 1 Axes>"
            ]
          },
          "metadata": {
            "needs_background": "light"
          },
          "output_type": "display_data"
        }
      ],
      "source": [
        "C_vals = ['gamma:scale; kernel:linear', 'gamma:scale; kernel:rbf', 'gamma:auto; kernel:rbf', 'gamma:auto; kernel:linear']\n",
        "\n",
        "plt.xlabel(\"C\")\n",
        "plt.ylabel(\"cv-accuracy\")\n",
        "plt.scatter(C_vals, grid.cv_results_['mean_test_score'], color='black')\n",
        "plt.vlines(C_vals, 0, grid.cv_results_['mean_test_score'], linestyle=\"dashed\")\n",
        "plt.xticks(C_vals)\n",
        "plt.show()"
      ]
    },
    {
      "cell_type": "markdown",
      "metadata": {
        "id": "TloVJ4ugFWTl"
      },
      "source": [
        "**Plotting Graphs train-accuracy vs Hyperparameters**"
      ]
    },
    {
      "cell_type": "code",
      "execution_count": null,
      "metadata": {
        "colab": {
          "base_uri": "https://localhost:8080/",
          "height": 279
        },
        "id": "MOAsU_nTZQcf",
        "outputId": "119402b4-c77a-417f-ec34-63d63b6ed9ff"
      },
      "outputs": [
        {
          "data": {
            "image/png": "[encoded data removed]",
            "text/plain": [
              "<Figure size 432x288 with 1 Axes>"
            ]
          },
          "metadata": {
            "needs_background": "light"
          },
          "output_type": "display_data"
        }
      ],
      "source": [
        "plt.xlabel(\"C\")\n",
        "plt.ylabel(\"train-accuracy\")\n",
        "plt.scatter(C_vals, grid.cv_results_['mean_train_score'], color='black')\n",
        "plt.vlines(C_vals, 0, grid.cv_results_['mean_train_score'], linestyle=\"dashed\")\n",
        "plt.xticks(C_vals)\n",
        "plt.show()"
      ]
    },
    {
      "cell_type": "code",
      "execution_count": null,
      "metadata": {
        "id": "odKrh4HoL0zY"
      },
      "outputs": [],
      "source": [
        "model = SVC(gamma='scale', kernel='rbf')\n",
        "model.fit(X_train, y_train)\n",
        "y_pred = model.predict(X_test)"
      ]
    },
    {
      "cell_type": "code",
      "execution_count": null,
      "metadata": {
        "colab": {
          "base_uri": "https://localhost:8080/"
        },
        "id": "dudREEc0ZSsz",
        "outputId": "cfa7dda1-d368-4db1-eb99-14313bc89721"
      },
      "outputs": [
        {
          "name": "stdout",
          "output_type": "stream",
          "text": [
            "[[3296    0    3    1    9    6   10    2    5    2]\n",
            " [   0 3711   17    6    4    3    5    7    8    3]\n",
            " [  16   11 3228   17   24    6   21   30   23    4]\n",
            " [   4   12   45 3267    0   59    9   21   57   19]\n",
            " [   5   11   12    0 3106    1   14    5    6   99]\n",
            " [  11    4    6   44    8 2872   51    3   16    8]\n",
            " [  27    8    9    0   16   16 3207    0    5    0]\n",
            " [   4   17   28    7   24    2    0 3337    7   46]\n",
            " [   8   17   12   32   16   34   17    6 3091   20]\n",
            " [  10   12    4   50   52   10    1   60   23 3112]]\n"
          ]
        }
      ],
      "source": [
        "print(confusion_matrix(y_test, y_pred))"
      ]
    },
    {
      "cell_type": "code",
      "execution_count": null,
      "metadata": {
        "colab": {
          "base_uri": "https://localhost:8080/"
        },
        "id": "wIeTHXimZT9l",
        "outputId": "5d4d5182-c7c1-45e9-a8d4-163bfe9bfb64"
      },
      "outputs": [
        {
          "name": "stdout",
          "output_type": "stream",
          "text": [
            "              precision    recall  f1-score   support\n",
            "\n",
            "           0       0.97      0.99      0.98      3334\n",
            "           1       0.98      0.99      0.98      3764\n",
            "           2       0.96      0.96      0.96      3380\n",
            "           3       0.95      0.94      0.94      3493\n",
            "           4       0.95      0.95      0.95      3259\n",
            "           5       0.95      0.95      0.95      3023\n",
            "           6       0.96      0.98      0.97      3288\n",
            "           7       0.96      0.96      0.96      3472\n",
            "           8       0.95      0.95      0.95      3253\n",
            "           9       0.94      0.93      0.94      3334\n",
            "\n",
            "    accuracy                           0.96     33600\n",
            "   macro avg       0.96      0.96      0.96     33600\n",
            "weighted avg       0.96      0.96      0.96     33600\n",
            "\n"
          ]
        }
      ],
      "source": [
        "print(classification_report(y_test, y_pred))"
      ]
    },
    {
      "cell_type": "markdown",
      "metadata": {
        "id": "dL4JOzX3ZVns"
      },
      "source": [
        "**Exercise 2: Perform handwritten digit classification using neural network model with single hidden layer. Plot “hyperparameter vs. train-accuracy” and “hyperparameter vs. cv-accuracy” graphs. Measure model performance on test data using following metrics: accuracy, confusion matrix, precision, recall and F1 Score.** "
      ]
    },
    {
      "cell_type": "code",
      "execution_count": null,
      "metadata": {
        "colab": {
          "base_uri": "https://localhost:8080/"
        },
        "id": "krusoC4wZV-N",
        "outputId": "5b053c36-93fb-4a91-8be3-226a8244931d"
      },
      "outputs": [
        {
          "name": "stdout",
          "output_type": "stream",
          "text": [
            "Fitting 4 folds for each of 4 candidates, totalling 16 fits\n"
          ]
        },
        {
          "data": {
            "text/plain": [
              "GridSearchCV(cv=4, estimator=MLPClassifier(), n_jobs=-1,\n",
              "             param_grid={'hidden_layer_sizes': [(50,), (100,)],\n",
              "                         'learning_rate_init': [0.001, 0.0005]},\n",
              "             return_train_score=True, verbose=2)"
            ]
          },
          "execution_count": 30,
          "metadata": {},
          "output_type": "execute_result"
        }
      ],
      "source": [
        "parameters = {'hidden_layer_sizes':[(50,), (100,)], 'learning_rate_init':[0.001, 0.0005]}\n",
        "grid = GridSearchCV(MLPClassifier(), param_grid=parameters, cv=4, verbose=2, n_jobs=-1, return_train_score=True)\n",
        "grid.fit(X_train, y_train)"
      ]
    },
    {
      "cell_type": "code",
      "execution_count": null,
      "metadata": {
        "colab": {
          "base_uri": "https://localhost:8080/"
        },
        "id": "WdIhiELYZXYT",
        "outputId": "4921d306-cd1d-4248-f505-1f661c45b848"
      },
      "outputs": [
        {
          "data": {
            "text/plain": [
              "{'mean_fit_time': array([17.08081365, 18.38365906, 12.97479403, 13.34521925]),\n",
              " 'std_fit_time': array([3.7407115 , 5.0631734 , 2.53427552, 1.95650753]),\n",
              " 'mean_score_time': array([0.01818663, 0.02075845, 0.03920406, 0.03020233]),\n",
              " 'std_score_time': array([0.00033449, 0.00403612, 0.01118352, 0.00338804]),\n",
              " 'param_hidden_layer_sizes': masked_array(data=[(50,), (50,), (100,), (100,)],\n",
              "              mask=[False, False, False, False],\n",
              "        fill_value='?',\n",
              "             dtype=object),\n",
              " 'param_learning_rate_init': masked_array(data=[0.001, 0.0005, 0.001, 0.0005],\n",
              "              mask=[False, False, False, False],\n",
              "        fill_value='?',\n",
              "             dtype=object),\n",
              " 'params': [{'hidden_layer_sizes': (50,), 'learning_rate_init': 0.001},\n",
              "  {'hidden_layer_sizes': (50,), 'learning_rate_init': 0.0005},\n",
              "  {'hidden_layer_sizes': (100,), 'learning_rate_init': 0.001},\n",
              "  {'hidden_layer_sizes': (100,), 'learning_rate_init': 0.0005}],\n",
              " 'split0_test_score': array([0.88380952, 0.86904762, 0.89285714, 0.87857143]),\n",
              " 'split1_test_score': array([0.85857143, 0.85714286, 0.89      , 0.87142857]),\n",
              " 'split2_test_score': array([0.87      , 0.84571429, 0.8952381 , 0.85571429]),\n",
              " 'split3_test_score': array([0.88190476, 0.86619048, 0.88333333, 0.8647619 ]),\n",
              " 'mean_test_score': array([0.87357143, 0.85952381, 0.89035714, 0.86761905]),\n",
              " 'std_test_score': array([0.01014911, 0.00910384, 0.00445912, 0.0084314 ]),\n",
              " 'rank_test_score': array([2, 4, 1, 3], dtype=int32),\n",
              " 'split0_train_score': array([0.97952381, 1.        , 0.99619048, 1.        ]),\n",
              " 'split1_train_score': array([0.97142857, 0.98269841, 1.        , 1.        ]),\n",
              " 'split2_train_score': array([0.9684127 , 0.99984127, 0.99333333, 1.        ]),\n",
              " 'split3_train_score': array([0.96888889, 1.        , 1.        , 1.        ]),\n",
              " 'mean_train_score': array([0.97206349, 0.99563492, 0.99738095, 1.        ]),\n",
              " 'std_train_score': array([0.00445718, 0.00746918, 0.0028071 , 0.        ])}"
            ]
          },
          "execution_count": 31,
          "metadata": {},
          "output_type": "execute_result"
        }
      ],
      "source": [
        "grid.cv_results_"
      ]
    },
    {
      "cell_type": "markdown",
      "metadata": {
        "id": "muhgPBmhFRUH"
      },
      "source": [
        "**Plotting Graphs CV-accuracy vs Hyperparameters**"
      ]
    },
    {
      "cell_type": "code",
      "execution_count": null,
      "metadata": {
        "colab": {
          "base_uri": "https://localhost:8080/",
          "height": 279
        },
        "id": "J_WD5D5zZZDL",
        "outputId": "94c2a918-fcaf-4bda-c7aa-bbfa8f7a3962"
      },
      "outputs": [
        {
          "data": {
            "image/png": "[encoded data removed]",
            "text/plain": [
              "<Figure size 432x288 with 1 Axes>"
            ]
          },
          "metadata": {
            "needs_background": "light"
          },
          "output_type": "display_data"
        }
      ],
      "source": [
        "C_vals = [\"hidden layer': 50, 'learning rate': 0.001\", \n",
        "         \"hidden layer': 50, 'learning rate': 0.0002\",\n",
        "         \"hidden layer': 20, 'learning rate': 0.001\",\n",
        "         \"hidden layer': 20, 'learning rate': 0.0002\"]\n",
        "\n",
        "plt.xlabel(\"C\")\n",
        "plt.ylabel(\"cv-accuracy\")\n",
        "plt.scatter(C_vals, grid.cv_results_['mean_test_score'], color='black')\n",
        "plt.vlines(C_vals, 0, grid.cv_results_['mean_test_score'], linestyle=\"dashed\")\n",
        "plt.xticks(C_vals)\n",
        "plt.show()"
      ]
    },
    {
      "cell_type": "markdown",
      "metadata": {
        "id": "xC3QILulFUjl"
      },
      "source": [
        "**Plotting Graphs train-accuracy vs Hyperparameters**"
      ]
    },
    {
      "cell_type": "code",
      "execution_count": null,
      "metadata": {
        "colab": {
          "base_uri": "https://localhost:8080/",
          "height": 279
        },
        "id": "nGhqO3YKZaRO",
        "outputId": "21239045-240f-446a-9089-3ee604a097b9"
      },
      "outputs": [
        {
          "data": {
            "image/png": "[encoded data removed]",
            "text/plain": [
              "<Figure size 432x288 with 1 Axes>"
            ]
          },
          "metadata": {
            "needs_background": "light"
          },
          "output_type": "display_data"
        }
      ],
      "source": [
        "plt.xlabel(\"C\")\n",
        "plt.ylabel(\"train-accuracy\")\n",
        "plt.scatter(C_vals, grid.cv_results_['mean_train_score'], color='black')\n",
        "plt.vlines(C_vals, 0, grid.cv_results_['mean_train_score'], linestyle=\"dashed\")\n",
        "plt.xticks(C_vals)\n",
        "plt.show()"
      ]
    },
    {
      "cell_type": "code",
      "execution_count": null,
      "metadata": {
        "id": "V3ljLbCQZbbU"
      },
      "outputs": [],
      "source": [
        "model = MLPClassifier(hidden_layer_sizes=100, learning_rate_init=0.0005)\n",
        "model.fit(X_train, y_train)\n",
        "y_pred = model.predict(X_test)"
      ]
    },
    {
      "cell_type": "code",
      "execution_count": null,
      "metadata": {
        "colab": {
          "base_uri": "https://localhost:8080/"
        },
        "id": "EGWloUcoZciL",
        "outputId": "d461c525-b472-4383-8b5d-8471d147c9a8"
      },
      "outputs": [
        {
          "name": "stdout",
          "output_type": "stream",
          "text": [
            "[[3177    0   19   12   11   39   45    6   21   12]\n",
            " [   1 3612   18   18    3   14    9   14   23    6]\n",
            " [  17   38 3020   53   45   16   43   34   54   11]\n",
            " [  11   28  124 2994    9  127   21   29  112   34]\n",
            " [   3   11   17    8 2914   23   38   23   21  185]\n",
            " [  28   15   25   71   32 2665   37   11   75   41]\n",
            " [  41    5   17    3   24   40 3149    5   15    3]\n",
            " [  11   15   44   39   53   16    2 3233   20  121]\n",
            " [  20   49  106  124   34   92   51   12 2717   59]\n",
            " [  13   19   17   84  169   26    4   95   35 2895]]\n"
          ]
        }
      ],
      "source": [
        "print(confusion_matrix(y_test, y_pred))"
      ]
    },
    {
      "cell_type": "code",
      "execution_count": null,
      "metadata": {
        "colab": {
          "base_uri": "https://localhost:8080/"
        },
        "id": "X05XfXJdKUeo",
        "outputId": "c4ded4c5-393c-4122-fc6f-6468d1487fe7"
      },
      "outputs": [
        {
          "name": "stdout",
          "output_type": "stream",
          "text": [
            "              precision    recall  f1-score   support\n",
            "\n",
            "           0       0.96      0.95      0.95      3342\n",
            "           1       0.95      0.97      0.96      3718\n",
            "           2       0.89      0.91      0.90      3331\n",
            "           3       0.88      0.86      0.87      3489\n",
            "           4       0.88      0.90      0.89      3243\n",
            "           5       0.87      0.89      0.88      3000\n",
            "           6       0.93      0.95      0.94      3302\n",
            "           7       0.93      0.91      0.92      3554\n",
            "           8       0.88      0.83      0.85      3264\n",
            "           9       0.86      0.86      0.86      3357\n",
            "\n",
            "    accuracy                           0.90     33600\n",
            "   macro avg       0.90      0.90      0.90     33600\n",
            "weighted avg       0.90      0.90      0.90     33600\n",
            "\n"
          ]
        }
      ],
      "source": [
        "print(classification_report(y_test, y_pred))"
      ]
    },
    {
      "cell_type": "markdown",
      "metadata": {
        "id": "s1GsOJJDI5OU"
      },
      "source": [
        "**Exercise 3: Compare the performances of logistic regression, SVM and neural networks models on MNIST dataset for digit recognition. Write your observation on the performances of these models**"
      ]
    },
    {
      "cell_type": "markdown",
      "metadata": {
        "id": "91Pi_Yr5JB4p"
      },
      "source": [
        "We are using SVM, Neural Network and Logistic regression and the accuracy we get are as blow\n",
        "\n",
        "\n",
        "*   SVM :- 96%\n",
        "*   Neural Network :- 90%\n",
        "* Logistic regression :- 91%\n",
        "\n"
      ]
    }
  ],
  "metadata": {
    "colab": {
      "provenance": []
    },
    "kernelspec": {
      "display_name": "Python 3",
      "name": "python3"
    },
    "language_info": {
      "name": "python"
    }
  },
  "nbformat": 4,
  "nbformat_minor": 0
}
