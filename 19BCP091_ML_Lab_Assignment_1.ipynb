{
  "cells": [
    {
      "cell_type": "markdown",
      "metadata": {
        "id": "uk0xy6cDcaMv"
      },
      "source": [
        "# **MACHINE LEARNING LAB - 1**\n",
        "\n",
        "# **Problem Statement : Python Practic Assignmentt**"
      ]
    },
    {
      "cell_type": "markdown",
      "metadata": {
        "id": "SXRWDEoafsxk"
      },
      "source": [
        "**Q1. Write a function that converts a decimal number to binary number.**"
      ]
    },
    {
      "cell_type": "code",
      "execution_count": null,
      "metadata": {
        "id": "jIi9SNXNkWzU",
        "colab": {
          "base_uri": "https://localhost:8080/",
          "height": 36
        },
        "outputId": "66ab5423-e161-47c0-a8b6-2d409700c1ea"
      },
      "outputs": [
        {
          "output_type": "execute_result",
          "data": {
            "text/plain": [
              "'1000'"
            ],
            "application/vnd.google.colaboratory.intrinsic+json": {
              "type": "string"
            }
          },
          "metadata": {},
          "execution_count": 1
        }
      ],
      "source": [
        "def decimalToBinary(n):\n",
        "    return bin(n).replace(\"0b\", \"\")\n",
        "\n",
        "def decimalToBinary_2(n):\n",
        "    ans = ''\n",
        "    while n > 1:\n",
        "        ans = str(n % 2) + ans\n",
        "        n = n // 2\n",
        "    return str(n) + ans\n",
        "\n",
        "decimalToBinary_2(8)"
      ]
    },
    {
      "cell_type": "code",
      "execution_count": null,
      "metadata": {
        "colab": {
          "base_uri": "https://localhost:8080/",
          "height": 36
        },
        "id": "VauT5QuAYHIn",
        "outputId": "7816758d-6681-4c8b-8a30-f57b1fb1ef34"
      },
      "outputs": [
        {
          "output_type": "execute_result",
          "data": {
            "text/plain": [
              "'11111111'"
            ],
            "application/vnd.google.colaboratory.intrinsic+json": {
              "type": "string"
            }
          },
          "metadata": {},
          "execution_count": 2
        }
      ],
      "source": [
        "decimalToBinary_2(255)"
      ]
    },
    {
      "cell_type": "markdown",
      "metadata": {
        "id": "xt7kX48_0XaV"
      },
      "source": [
        "**Q2. Write a function to compute the sigmoid of a vector of values. <br> \n",
        "A sigmoid of a real number $x$ is defind as $\\sigma(x)$ = $\\frac{1}{1+e^-x}$ <br>\n",
        "For example:\n",
        "Input: $[x_{1}, x_{2}, x_{3}, x_{4}]$ <br>\n",
        "Output: $[\\sigma{(x_{1})}, \\sigma{(x_{2})}, \\sigma{(x_{3})}, \\sigma{(x_{4})}]$**"
      ]
    },
    {
      "cell_type": "code",
      "execution_count": null,
      "metadata": {
        "id": "8Bz_ilfl4URb",
        "colab": {
          "base_uri": "https://localhost:8080/"
        },
        "outputId": "2546dc26-39ce-48be-d27c-307037fc2a90"
      },
      "outputs": [
        {
          "output_type": "execute_result",
          "data": {
            "text/plain": [
              "array([0.73105858, 0.88079708, 0.95257413, 0.98201379])"
            ]
          },
          "metadata": {},
          "execution_count": 3
        }
      ],
      "source": [
        "import numpy as np\n",
        "def sigmoid(x):\n",
        "    return 1 / (1 + np.exp(-x))\n",
        "\n",
        "sigmoid(np.array([1, 2, 3, 4]))"
      ]
    },
    {
      "cell_type": "markdown",
      "metadata": {
        "id": "pZ7WEw2O4uA5"
      },
      "source": [
        "**Q3. Write a function to compute the derivative of the sigmoid function with respect to its input $x$. Here, the $x$ is a vector. <br> \n",
        "The derivative of a sigmoid is defined as: $\\sigma(x)(1 - \\sigma(x))$\n",
        "<br>**"
      ]
    },
    {
      "cell_type": "code",
      "execution_count": null,
      "metadata": {
        "id": "0L1pX5VX5rFP",
        "colab": {
          "base_uri": "https://localhost:8080/"
        },
        "outputId": "411f6232-d289-4dfa-9f8c-349897be8bb3"
      },
      "outputs": [
        {
          "output_type": "execute_result",
          "data": {
            "text/plain": [
              "array([0.19661193, 0.10499359, 0.04517666, 0.01766271])"
            ]
          },
          "metadata": {},
          "execution_count": 4
        }
      ],
      "source": [
        "def sigmoid_derivative(x):\n",
        "    return sigmoid(x) * (1 - sigmoid(x))\n",
        "\n",
        "sigmoid_derivative(np.array([1, 2, 3, 4]))"
      ]
    },
    {
      "cell_type": "markdown",
      "metadata": {
        "id": "hbwpF7Uo6Cqp"
      },
      "source": [
        "**Q4. Write a function to normalize the rows of a matrix. After applying this function to an input matrix $x$ of size $m \\times n$, each row of $x$ should be a vector of unit length.**"
      ]
    },
    {
      "cell_type": "code",
      "execution_count": null,
      "metadata": {
        "id": "PTn3Oh_761Ds",
        "colab": {
          "base_uri": "https://localhost:8080/"
        },
        "outputId": "2cd97112-2935-4305-c71a-b6dc1806d13e"
      },
      "outputs": [
        {
          "output_type": "execute_result",
          "data": {
            "text/plain": [
              "array([[0.26726124, 0.53452248, 0.80178373],\n",
              "       [0.45584231, 0.56980288, 0.68376346]])"
            ]
          },
          "metadata": {},
          "execution_count": 5
        }
      ],
      "source": [
        "def normalize(x):\n",
        "    b = np.linalg.norm(x, axis=1)\n",
        "    return np.divide(x.T, b).T\n",
        "\n",
        "\n",
        "normalize(np.array([[1, 2, 3], [4, 5, 6]]))"
      ]
    },
    {
      "cell_type": "markdown",
      "metadata": {
        "id": "fscgrzEXgV1s"
      },
      "source": [
        "**Q5. Write a program which can map() and filter() to make a list whose elements are cube of even numbers in a list.**"
      ]
    },
    {
      "cell_type": "code",
      "execution_count": null,
      "metadata": {
        "id": "5F6Us42VkmjS",
        "colab": {
          "base_uri": "https://localhost:8080/"
        },
        "outputId": "820b031b-ed88-4eda-baaf-547c450fe482"
      },
      "outputs": [
        {
          "output_type": "execute_result",
          "data": {
            "text/plain": [
              "array([  8,  64, 216])"
            ]
          },
          "metadata": {},
          "execution_count": 6
        }
      ],
      "source": [
        "def even_cube(x):\n",
        "    y = filter(lambda x: x%2==0, x)\n",
        "    z = map(lambda x: x**3, y)\n",
        "    return np.array(list(z))\n",
        "\n",
        "even_cube(np.array([1,2,3,4,5,6,7]))"
      ]
    },
    {
      "cell_type": "markdown",
      "metadata": {
        "id": "Du2HiJZzcqA9"
      },
      "source": [
        "\n",
        "**Q6. consider the marks list of class students given two lists <br>\n",
        "Students = ['student1','student2','student3','student4','student5','student6','student7','student8','student9','student10'] <br>\n",
        "Marks = [45, 78, 12, 14, 48, 43, 45, 98, 35, 80] <br>\n",
        "from the above two lists the Student[0] got Marks[0],  Student[1] got Marks[1] and so on <br><br>\n",
        "your task is to print the name of students <br>\n",
        "<strong>a. Who got top 5 ranks, in the descending order of marks</strong> <br>\n",
        "<strong>b. Who got least 5 ranks, in the increasing order of marks</strong><br>\n",
        "<strong>d. Who got marks between  &gt;25th percentile &lt;75th percentile, in the increasing order of marks</strong>**\n",
        "\n",
        "<pre>\n",
        "Ex 1: \n",
        "Students=['student1','student2','student3','student4','student5','student6','student7','student8','student9','student10'] \n",
        "Marks = [45, 78, 12, 14, 48, 43, 47, 98, 35, 80]\n",
        "a. \n",
        "student8  98\n",
        "student10 80\n",
        "student2  78\n",
        "student5  48\n",
        "student7  47\n",
        "b.\n",
        "student3 12\n",
        "student4 14\n",
        "student9 35\n",
        "student6 43\n",
        "student1 45\n",
        "c.\n",
        "student9 35\n",
        "student6 43\n",
        "student1 45\n",
        "student7 47\n",
        "student5 48\n",
        "</pre>"
      ]
    },
    {
      "cell_type": "code",
      "execution_count": null,
      "metadata": {
        "colab": {
          "base_uri": "https://localhost:8080/"
        },
        "id": "QyEqL6ecYHI5",
        "outputId": "979e6fc2-c66f-4065-cd31-2bbf1bf1311c"
      },
      "outputs": [
        {
          "output_type": "stream",
          "name": "stdout",
          "text": [
            "[7 9 1 4 6 0 5 8 3 2]\n",
            "['student8' 'student10' 'student2' 'student5' 'student7']\n",
            "[98 80 78 48 45]\n"
          ]
        }
      ],
      "source": [
        "Students = np.array(['student1','student2','student3','student4','student5','student6','student7','student8','student9','student10'])\n",
        "a = np.array([45, 78, 12, 14, 48, 43, 45, 98, 35, 80])\n",
        "b = np.argsort(a)\n",
        "b = b[::-1]\n",
        "print(b)\n",
        "print(Students[b[:5]])\n",
        "print(a[b[:5]])"
      ]
    },
    {
      "cell_type": "code",
      "execution_count": null,
      "metadata": {
        "colab": {
          "base_uri": "https://localhost:8080/"
        },
        "id": "3HFZ6uAtYHI8",
        "outputId": "2e54faaa-237c-4e1c-ff9a-88ad48b666ec"
      },
      "outputs": [
        {
          "output_type": "stream",
          "name": "stdout",
          "text": [
            "[2 3 8 5 0 6 4 1 9 7]\n",
            "['student3' 'student4' 'student9' 'student6' 'student1']\n",
            "[12 14 35 43 45]\n"
          ]
        }
      ],
      "source": [
        "b = b[::-1]\n",
        "print(b)\n",
        "print(Students[b[:5]])\n",
        "print(a[b[:5]])"
      ]
    },
    {
      "cell_type": "code",
      "execution_count": null,
      "metadata": {
        "colab": {
          "base_uri": "https://localhost:8080/"
        },
        "id": "zqzWGZ86YHI9",
        "outputId": "877b8ada-7cde-4b82-d666-a016adb63f65"
      },
      "outputs": [
        {
          "output_type": "stream",
          "name": "stdout",
          "text": [
            "['student9' 'student6' 'student1' 'student7' 'student5']\n",
            "[35 43 45 45 48]\n"
          ]
        }
      ],
      "source": [
        "start = len(Students)//2//2\n",
        "stop = len(Students)//2 + start\n",
        "print(Students[b[start:stop]])\n",
        "print(a[b[start:stop]])"
      ]
    },
    {
      "cell_type": "markdown",
      "metadata": {
        "id": "OqdED0G6dH_0"
      },
      "source": [
        "**Q7. consider you have given n data points in the form of list of tuples like S=[(x1,y1),(x2,y2),(x3,y3),(x4,y4),(x5,y5),..,(xn,yn)] and a point P=(p,q) <br> your task is to find 5 closest points(based on cosine distance) in S from P**\n",
        "<brs (x,y) and (p,q) is defind as $cos^{-1}(\\frac{(x\\cdot p+y\\cdot q)}{\\sqrt(x^2+y^2)\\cdot\\sqrt(p^2+q^2)})$>cosine distance between two point\n",
        "<pre>\n",
        "Ex:\n",
        "\n",
        "S= [(1,2),(3,4),(-1,1),(6,-7),(0, 6),(-5,-8),(-1,-1)(6,0),(1,-1)]\n",
        "P= (3,-4)\n",
        "\n",
        "Output:\n",
        "(6,-7)\n",
        "(1,-1)\n",
        "(6,0)\n",
        "(-5,-8)\n",
        "(-1,-1)\n",
        "</pre>"
      ]
    },
    {
      "cell_type": "code",
      "execution_count": null,
      "metadata": {
        "id": "OZmPOIp-d3sN",
        "colab": {
          "base_uri": "https://localhost:8080/"
        },
        "outputId": "4a0cef13-a1cc-40e6-8333-2033bc50fe54"
      },
      "outputs": [
        {
          "output_type": "execute_result",
          "data": {
            "text/plain": [
              "2.0344439357957027"
            ]
          },
          "metadata": {},
          "execution_count": 10
        }
      ],
      "source": [
        "def cosine_dist(x, p):\n",
        "    return np.arccos(np.divide((x[0]*p[0]+x[1]*p[1]), np.sqrt(x[0]**2+x[1]**2)*np.sqrt(p[0]**2+p[1]**2)))\n",
        "\n",
        "cosine_dist((1,2), (3, -4))"
      ]
    },
    {
      "cell_type": "code",
      "execution_count": null,
      "metadata": {
        "colab": {
          "base_uri": "https://localhost:8080/"
        },
        "id": "H-BAzlCTYHJA",
        "outputId": "508714eb-e9e0-4a3d-a77a-fadb45cefc6d"
      },
      "outputs": [
        {
          "output_type": "execute_result",
          "data": {
            "text/plain": [
              "[(6, -7), (1, -1), (6, 0), (-5, -8), (-1, -1)]"
            ]
          },
          "metadata": {},
          "execution_count": 11
        }
      ],
      "source": [
        "def cosine_dist(x, y, p, q):\n",
        "    return np.arccos(np.divide((x*p+y*q), np.sqrt(x**2+y**2)*np.sqrt(p**2+q**2)))\n",
        "\n",
        "x = np.array([1,3,-1,6,0,-5,-1,6,1])\n",
        "y = np.array([2,4,1,-7,6,-8,-1,0,-1])\n",
        "p, q = 3, -4\n",
        "\n",
        "dist = cosine_dist(x, y, p, q)\n",
        "dist_arg = dist.argsort()\n",
        "\n",
        "x[dist_arg[:5]]\n",
        "y[dist_arg[:5]]\n",
        "z = map(lambda a, b: (a, b), x[dist_arg[:5]], y[dist_arg[:5]])\n",
        "list(z)"
      ]
    },
    {
      "cell_type": "markdown",
      "metadata": {
        "id": "6VHCfjFod6Nc"
      },
      "source": [
        "**Q8: Given two sentences S1, S2\n",
        "You will be given a list of lists, each sublist will be of length 2 i.e. [[x,y],[p,q],[l,m]..[r,s]]\n",
        "consider its like a matrix of n rows and two columns**\n",
        "\n",
        "a. **the first column Y will contain interger values** <br>\n",
        "b. **the second column $Y_{score}$ will be having float values**<br>\n",
        "**Your task is to find the value of $f(Y,Y_{score}) = -1*\\frac{1}{n}\\Sigma_{for each Y,Y_{score} pair}(Ylog10(Y_{score})+(1-Y)log10(1-Y_{score}))$ here n is the number of rows in the matrix**\n",
        "<pre>\n",
        "Ex:\n",
        "[[1, 0.4], [0, 0.5], [0, 0.9], [0, 0.3], [0, 0.6], [1, 0.1], [1, 0.9], [1, 0.8]]\n",
        "output:\n",
        "0.4243099\n",
        "</pre>\n",
        "$\\frac{-1}{8}\\cdot((1\\cdot log_{10}(0.4)+0\\cdot log_{10}(0.6))+(0\\cdot log_{10}(0.5)+1\\cdot log_{10}(0.5)) + ... + (1\\cdot log_{10}(0.8)+0\\cdot log_{10}(0.2)) )$"
      ]
    },
    {
      "cell_type": "code",
      "execution_count": null,
      "metadata": {
        "id": "Gdq7LciXeqJ1",
        "colab": {
          "base_uri": "https://localhost:8080/"
        },
        "outputId": "79ac75c8-0194-4ff6-9321-412ca2f3bb3f"
      },
      "outputs": [
        {
          "output_type": "execute_result",
          "data": {
            "text/plain": [
              "0.42430993457031635"
            ]
          },
          "metadata": {},
          "execution_count": 12
        }
      ],
      "source": [
        "def func3(x, y):\n",
        "    z = map(lambda a, b: a*np.log10(b)+(1-a)*np.log10(1-b), x, y)\n",
        "    z = np.array(list(z))\n",
        "\n",
        "    return z.sum()/len(x)*-1\n",
        "\n",
        "a = np.array([1,0,0,0,0,1,1,1])\n",
        "b = np.array([0.4, 0.5, 0.9, 0.3, 0.6, 0.1, 0.9, 0.8])\n",
        "func3(a, b)"
      ]
    }
  ],
  "metadata": {
    "colab": {
      "provenance": []
    },
    "kernelspec": {
      "display_name": "Python 3.8.10 64-bit",
      "language": "python",
      "name": "python3"
    },
    "language_info": {
      "codemirror_mode": {
        "name": "ipython",
        "version": 3
      },
      "file_extension": ".py",
      "mimetype": "text/x-python",
      "name": "python",
      "nbconvert_exporter": "python",
      "pygments_lexer": "ipython3",
      "version": "3.8.10"
    },
    "vscode": {
      "interpreter": {
        "hash": "31f2aee4e71d21fbe5cf8b01ff0e069b9275f58929596ceb00d14d90e3e16cd6"
      }
    }
  },
  "nbformat": 4,
  "nbformat_minor": 0
}