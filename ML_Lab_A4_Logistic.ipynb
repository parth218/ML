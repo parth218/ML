{
  "nbformat": 4,
  "nbformat_minor": 0,
  "metadata": {
    "colab": {
      "provenance": []
    },
    "kernelspec": {
      "name": "python3",
      "display_name": "Python 3"
    },
    "language_info": {
      "name": "python"
    }
  },
  "cells": [
    {
      "cell_type": "markdown",
      "source": [
        "# **MACHINE LEARNING LAB - 4**\n",
        "\n",
        "# **Problem Statement : Implement of Logistic Regression Algorithm**"
      ],
      "metadata": {
        "id": "6UHB8eCI0jtP"
      }
    },
    {
      "cell_type": "markdown",
      "source": [
        "**Import Libraries**"
      ],
      "metadata": {
        "id": "MCPVvjqbnj9H"
      }
    },
    {
      "cell_type": "code",
      "execution_count": null,
      "metadata": {
        "id": "4gjDBklCnJB2"
      },
      "outputs": [],
      "source": [
        "from sklearn.model_selection import train_test_split\n",
        "from sklearn.datasets import *\n",
        "from sklearn.linear_model import LogisticRegression\n",
        "\n",
        "import pandas as pd\n",
        "import numpy as np\n",
        "from sklearn.preprocessing import StandardScaler\n",
        "\n",
        "import matplotlib.pyplot as plt\n",
        "from sklearn.metrics import accuracy_score"
      ]
    },
    {
      "cell_type": "markdown",
      "source": [
        "**Load the data**"
      ],
      "metadata": {
        "id": "xV_D3GvSnqE2"
      }
    },
    {
      "cell_type": "code",
      "source": [
        "data = load_breast_cancer() #refer: http://scikit-learn.org/stable/modules/generated/sklearn.datasets.load_breast_cancer.html#sklearn.datasets.load_breast_cancer\n",
        "\n",
        "# data with features\n",
        "X = data.data\n",
        "\n",
        "# data class labels\n",
        "y = data.target\n"
      ],
      "metadata": {
        "id": "RIBmJYuXnsa2"
      },
      "execution_count": null,
      "outputs": []
    },
    {
      "cell_type": "code",
      "source": [
        "print(X.shape,X[:1])"
      ],
      "metadata": {
        "colab": {
          "base_uri": "https://localhost:8080/"
        },
        "id": "ELCj0yLQtnix",
        "outputId": "d71e716f-ce0d-4748-997b-77bbfe984a27"
      },
      "execution_count": null,
      "outputs": [
        {
          "output_type": "stream",
          "name": "stdout",
          "text": [
            "(569, 30) [[1.799e+01 1.038e+01 1.228e+02 1.001e+03 1.184e-01 2.776e-01 3.001e-01\n",
            "  1.471e-01 2.419e-01 7.871e-02 1.095e+00 9.053e-01 8.589e+00 1.534e+02\n",
            "  6.399e-03 4.904e-02 5.373e-02 1.587e-02 3.003e-02 6.193e-03 2.538e+01\n",
            "  1.733e+01 1.846e+02 2.019e+03 1.622e-01 6.656e-01 7.119e-01 2.654e-01\n",
            "  4.601e-01 1.189e-01]]\n"
          ]
        }
      ]
    },
    {
      "cell_type": "code",
      "source": [
        "print(y.shape,y)"
      ],
      "metadata": {
        "colab": {
          "base_uri": "https://localhost:8080/"
        },
        "id": "GjqNBozHtzzy",
        "outputId": "1318bf53-9083-4726-9f5f-83c99c83aa09"
      },
      "execution_count": null,
      "outputs": [
        {
          "output_type": "stream",
          "name": "stdout",
          "text": [
            "(569,) [0 0 0 0 0 0 0 0 0 0 0 0 0 0 0 0 0 0 0 1 1 1 0 0 0 0 0 0 0 0 0 0 0 0 0 0 0\n",
            " 1 0 0 0 0 0 0 0 0 1 0 1 1 1 1 1 0 0 1 0 0 1 1 1 1 0 1 0 0 1 1 1 1 0 1 0 0\n",
            " 1 0 1 0 0 1 1 1 0 0 1 0 0 0 1 1 1 0 1 1 0 0 1 1 1 0 0 1 1 1 1 0 1 1 0 1 1\n",
            " 1 1 1 1 1 1 0 0 0 1 0 0 1 1 1 0 0 1 0 1 0 0 1 0 0 1 1 0 1 1 0 1 1 1 1 0 1\n",
            " 1 1 1 1 1 1 1 1 0 1 1 1 1 0 0 1 0 1 1 0 0 1 1 0 0 1 1 1 1 0 1 1 0 0 0 1 0\n",
            " 1 0 1 1 1 0 1 1 0 0 1 0 0 0 0 1 0 0 0 1 0 1 0 1 1 0 1 0 0 0 0 1 1 0 0 1 1\n",
            " 1 0 1 1 1 1 1 0 0 1 1 0 1 1 0 0 1 0 1 1 1 1 0 1 1 1 1 1 0 1 0 0 0 0 0 0 0\n",
            " 0 0 0 0 0 0 0 1 1 1 1 1 1 0 1 0 1 1 0 1 1 0 1 0 0 1 1 1 1 1 1 1 1 1 1 1 1\n",
            " 1 0 1 1 0 1 0 1 1 1 1 1 1 1 1 1 1 1 1 1 1 0 1 1 1 0 1 0 1 1 1 1 0 0 0 1 1\n",
            " 1 1 0 1 0 1 0 1 1 1 0 1 1 1 1 1 1 1 0 0 0 1 1 1 1 1 1 1 1 1 1 1 0 0 1 0 0\n",
            " 0 1 0 0 1 1 1 1 1 0 1 1 1 1 1 0 1 1 1 0 1 1 0 0 1 1 1 1 1 1 0 1 1 1 1 1 1\n",
            " 1 0 1 1 1 1 1 0 1 1 0 1 1 1 1 1 1 1 1 1 1 1 1 0 1 0 0 1 0 1 1 1 1 1 0 1 1\n",
            " 0 1 0 1 1 0 1 0 1 1 1 1 1 1 1 1 0 0 1 1 1 1 1 1 0 1 1 1 1 1 1 1 1 1 1 0 1\n",
            " 1 1 1 1 1 1 0 1 0 1 1 0 1 1 1 1 1 0 0 1 0 1 0 1 1 1 1 1 0 1 1 0 1 0 1 0 0\n",
            " 1 1 1 0 1 1 1 1 1 1 1 1 1 1 1 0 1 0 0 1 1 1 1 1 1 1 1 1 1 1 1 1 1 1 1 1 1\n",
            " 1 1 1 1 1 1 1 0 0 0 0 0 0 1]\n"
          ]
        }
      ]
    },
    {
      "cell_type": "markdown",
      "source": [
        "**Print the number of data points, number of features and number of classes in the given data set.**"
      ],
      "metadata": {
        "id": "ZmIAUYfusNJK"
      }
    },
    {
      "cell_type": "code",
      "source": [
        "features = len(X[0])\n",
        "print(\"Data point \" ,len(X))\n",
        "print(\"features \",features)\n",
        "print(\"number of class\",len(set(y)))"
      ],
      "metadata": {
        "id": "Ib_fr2lDsaQa",
        "colab": {
          "base_uri": "https://localhost:8080/"
        },
        "outputId": "c4d7197d-cb2c-4694-a6f8-94cc9eb20c3a"
      },
      "execution_count": null,
      "outputs": [
        {
          "output_type": "stream",
          "name": "stdout",
          "text": [
            "Data point  569\n",
            "features  30\n",
            "number of class 2\n"
          ]
        }
      ]
    },
    {
      "cell_type": "markdown",
      "source": [
        "**Splitting data into Train and test sets with Stratified Sampling using train_test_split()**"
      ],
      "metadata": {
        "id": "0FSg49Uxsnw6"
      }
    },
    {
      "cell_type": "code",
      "source": [
        "X_train, X_test, y_train, y_test = train_test_split(X, y, test_size=0.2, stratify=y)\n",
        "print(len(X_train),len(X_test),len(y_train),len(y_test))"
      ],
      "metadata": {
        "id": "XyGtQkgGsqQa",
        "colab": {
          "base_uri": "https://localhost:8080/"
        },
        "outputId": "8df65470-b912-4253-eb87-b1f6b41629fe"
      },
      "execution_count": null,
      "outputs": [
        {
          "output_type": "stream",
          "name": "stdout",
          "text": [
            "455 114 455 114\n"
          ]
        }
      ]
    },
    {
      "cell_type": "markdown",
      "source": [
        "**Data Preprocessing using column standardisation. Use sklearn.preprocessing.StandardScaler().**"
      ],
      "metadata": {
        "id": "qZEUDkrmsr1S"
      }
    },
    {
      "cell_type": "code",
      "source": [
        "scaler = StandardScaler()\n",
        "\n",
        "X_train_scaled = scaler.fit_transform(X_train)\n",
        "X_test_scaled =scaler.transform(X_test)"
      ],
      "metadata": {
        "id": "W3IqnsLtsxdJ"
      },
      "execution_count": null,
      "outputs": []
    },
    {
      "cell_type": "code",
      "source": [
        "print(X_train_scaled[:1])"
      ],
      "metadata": {
        "colab": {
          "base_uri": "https://localhost:8080/"
        },
        "id": "-K-HLhGGumLq",
        "outputId": "8c246d67-33f5-4484-e113-2cbcb52ed476"
      },
      "execution_count": null,
      "outputs": [
        {
          "output_type": "stream",
          "name": "stdout",
          "text": [
            "[[-0.25747357 -1.26181343 -0.2706041  -0.33654243 -0.89910446 -0.36030825\n",
            "  -0.49065424 -0.54005445 -0.75021137 -0.94883081 -0.84139373 -1.28929008\n",
            "  -0.66385314 -0.58221983 -0.96457126 -0.25505687 -0.11704686 -0.54829635\n",
            "  -0.72417215 -0.44899752 -0.43461407 -1.32244303 -0.33010646 -0.45994579\n",
            "  -0.70031997  0.10111317  0.06569298 -0.35652455 -0.26432204 -0.58376258]]\n"
          ]
        }
      ]
    },
    {
      "cell_type": "markdown",
      "source": [
        "## **Implement Logistic Regression Using Gradient Descent: without using sklearn.**"
      ],
      "metadata": {
        "id": "0hI7Xizrsx9y"
      }
    },
    {
      "cell_type": "markdown",
      "source": [
        "\n",
        "In this algorithm, $n$ is the total number of datapoints in dataset. \n",
        "$\\alpha$ is the learning rate to be used in gradient descent. For this work, just fix $\\alpha = 0.001$.\n",
        "\n",
        "The predicted value for data point $x$ is $y_{pred} = σ(w^{T}x + b)$, where $σ$ is a sigmoid function.\n",
        "\n",
        "**ALGORITHM:**\n",
        "\n",
        "<br>\n",
        "\n",
        "* Initialize the weight_vector and intercept term to zeros (Write your code in <font color='blue'>def initialize_weights()</font>)\n",
        "\n",
        "* Create a loss function (Write your code in <font color='blue'>def logloss()</font>) \n",
        "\n",
        " $log loss = -1*\\frac{1}{n}\\Sigma_{for each y_{true},y_{pred}}(y_{true}log(y_{pred})+(1-y_{true})log(1-y_{pred}))$\n",
        "- for each epoch:\n",
        "\n",
        "    - for each data point say $x_{i}$ in train:\n",
        "\n",
        "        - calculate the gradient of loss function w.r.t each weight in weight vector (write your code in <font color='blue'>def gradient_dw()</font>)\n",
        "\n",
        "        $dw^{(t)} = \\frac{1}{n}(x_i(σ((w^{(t)})^{T} x_i+b^{t}) - y_i))$ <br>\n",
        "\n",
        "        - Calculate the gradient of the intercept (write your code in <font color='blue'> def gradient_db()</font>)\n",
        "\n",
        "           $ db^{(t)} = \\frac{1}{n}(σ((w^{(t)})^{T} x_i+b^{t}) - y_i))$\n",
        "\n",
        "        - Update weights and intercept usign gradient descent  <br>\n",
        "        $w^{(t+1)}← w^{(t)} - α(dw^{(t)}) $<br>\n",
        "\n",
        "        $b^{(t+1)}←b^{(t)} - α(db^{(t)}) $\n",
        "    - predict the output for all test data points with updated weights. (write your function in def prediction())\n",
        "    - calculate the log loss for train and test data points separately with the updated weights. Store these losses in the lists, train_loss and test_loss.\n",
        "    - And if you wish, you can compare the previous train loss and the current train loss, if it is not updating, then\n",
        "        you can stop the training\n",
        "    -return the updated weights, training and test loss lists.\n"
      ],
      "metadata": {
        "id": "ynujCs0lwy4n"
      }
    },
    {
      "cell_type": "code",
      "source": [
        "n_features = len(X[0])"
      ],
      "metadata": {
        "id": "HTWOrNR6uwsZ"
      },
      "execution_count": null,
      "outputs": []
    },
    {
      "cell_type": "code",
      "source": [
        "def initialize_weights():\n",
        "    weights = np.zeros((n_features, ))\n",
        "    bias = 0\n",
        "    return weights, bias"
      ],
      "metadata": {
        "id": "18XrII86wxbn"
      },
      "execution_count": null,
      "outputs": []
    },
    {
      "cell_type": "code",
      "source": [
        "def sigmoid(z):\n",
        "  return 1 / (1 + np.exp(-z))"
      ],
      "metadata": {
        "id": "LvxGkvA-0bW6"
      },
      "execution_count": null,
      "outputs": []
    },
    {
      "cell_type": "code",
      "source": [
        "def logloss(y_true, y_pred):\n",
        "   n = y_true.shape[0]\n",
        "   log_sum = 0\n",
        "   \n",
        "   for i in range(n):\n",
        "     log_sum += (y_true[i] * np.log(y_pred[i])) + ((1 - y_true[i]) * np.log(1 - y_pred[i]))\n",
        "    \n",
        "   return -log_sum / n\n",
        "    # you have been given two arrays y_true and y_pred and you have to calculate the logloss\n",
        "    "
      ],
      "metadata": {
        "id": "85VJ1n5Q0ig6"
      },
      "execution_count": null,
      "outputs": []
    },
    {
      "cell_type": "code",
      "source": [
        "# w should be a vector of size as input data point. Size of w and dw be same.\n",
        "def gradient_dw(x, y, w, b):\n",
        "  dw = np.dot(x, sigmoid(np.dot(w.T, x) + b) - y)\n",
        "  return dw\n",
        "\n",
        "    "
      ],
      "metadata": {
        "id": "j1sFxfpm0yhA"
      },
      "execution_count": null,
      "outputs": []
    },
    {
      "cell_type": "code",
      "source": [
        "#b should be a scalar value\n",
        "def gradient_db(x,y,w,b):\n",
        "  db = sigmoid(np.dot(w.T, x) + b) - y\n",
        "  return db \n",
        "        \n"
      ],
      "metadata": {
        "id": "CWxvXtMI1KMr"
      },
      "execution_count": null,
      "outputs": []
    },
    {
      "cell_type": "markdown",
      "source": [
        "**For the prediction, if activation_value > 0.5 then assign label = 1 else label = 0**"
      ],
      "metadata": {
        "id": "xKttny689cmV"
      }
    },
    {
      "cell_type": "code",
      "source": [
        "def predict(x, w, b):\n",
        " predictions = []\n",
        " for point in x:\n",
        "   predictions.append(0 if sigmoid(np.dot(w.T, point) + b) < 0.5 else 1)\n",
        " return predictions"
      ],
      "metadata": {
        "id": "aGLAVthp5Ug_"
      },
      "execution_count": null,
      "outputs": []
    },
    {
      "cell_type": "code",
      "source": [
        "def logistic_regression(epochs=1000, alpha=.001):\n",
        "    weights, bias = initialize_weights()\n",
        "    n = len(X_train_scaled[0])\n",
        "    train_loss = []\n",
        "\n",
        "    for epoch in range(epochs):\n",
        "        for x, y in zip(X_train_scaled, y_train):\n",
        "            weights -= (alpha * gradient_dw(x, y, weights, bias))\n",
        "            bias -= (alpha * gradient_db(x, y, weights, bias))\n",
        "        loss = logloss(y_train, sigmoid(np.dot(X_train_scaled, weights) + bias))\n",
        "        train_loss.append(loss)\n",
        "    return weights, bias, train_loss"
      ],
      "metadata": {
        "id": "yu1wK8Xq1mTI"
      },
      "execution_count": null,
      "outputs": []
    },
    {
      "cell_type": "markdown",
      "source": [
        "**Plot your train and test loss vs epochs. Plot epoch number on X-axis and loss on Y-axis and make sure that the curve is converging**"
      ],
      "metadata": {
        "id": "WYe3WqKO5kW1"
      }
    },
    {
      "cell_type": "code",
      "source": [
        "weights, bias, train_loss = logistic_regression()"
      ],
      "metadata": {
        "id": "fdvYIvpMtRra"
      },
      "execution_count": null,
      "outputs": []
    },
    {
      "cell_type": "code",
      "source": [
        "plt.plot(list(range(1000)), train_loss)"
      ],
      "metadata": {
        "id": "D4Wnv-xA7j6c",
        "colab": {
          "base_uri": "https://localhost:8080/",
          "height": 285
        },
        "outputId": "1f31c5c9-4081-4c62-eba0-92e81fa68cf6"
      },
      "execution_count": null,
      "outputs": [
        {
          "output_type": "execute_result",
          "data": {
            "text/plain": [
              "[<matplotlib.lines.Line2D at 0x7f349d13ee90>]"
            ]
          },
          "metadata": {},
          "execution_count": 18
        },
        {
          "output_type": "display_data",
          "data": {
            "text/plain": [
              "<Figure size 432x288 with 1 Axes>"
            ],
            "image/png": "[encoded data removed]"
          },
          "metadata": {
            "needs_background": "light"
          }
        }
      ]
    },
    {
      "cell_type": "markdown",
      "source": [
        "**BONUS: Train your model with varying values of learning rates say ranging in $[0.1, 0.01, 0.001, 0.0001]$ and plot the performances.**"
      ],
      "metadata": {
        "id": "qUcuGi8Q-HE7"
      }
    },
    {
      "cell_type": "code",
      "source": [
        "y_pred = predict(X_test_scaled, weights, bias)\n",
        "accuracy = accuracy_score(y_test, y_pred)"
      ],
      "metadata": {
        "id": "DggZZVQtv36p"
      },
      "execution_count": null,
      "outputs": []
    },
    {
      "cell_type": "code",
      "source": [
        "alpha_list = [0.1, 0.01, 0.001, 0.0001]\n",
        "acc_list = []\n",
        "\n",
        "for alpha in alpha_list:\n",
        "    weights, bias, train_loss = logistic_regression(alpha=alpha)\n",
        "    y_pred = predict(X_test_scaled, weights, bias)\n",
        "    accuracy = accuracy_score(y_test, y_pred)\n",
        "    acc_list.append(accuracy)"
      ],
      "metadata": {
        "colab": {
          "base_uri": "https://localhost:8080/"
        },
        "id": "Ol9v805gv5ut",
        "outputId": "0a1fce5c-1f4f-4067-8ff0-5853b5f5c049"
      },
      "execution_count": null,
      "outputs": [
        {
          "output_type": "stream",
          "name": "stderr",
          "text": [
            "/usr/local/lib/python3.7/dist-packages/ipykernel_launcher.py:6: RuntimeWarning: divide by zero encountered in log\n",
            "  \n",
            "/usr/local/lib/python3.7/dist-packages/ipykernel_launcher.py:6: RuntimeWarning: invalid value encountered in multiply\n",
            "  \n"
          ]
        }
      ]
    },
    {
      "cell_type": "code",
      "source": [
        "print(list(zip(alpha_list, acc_list)))"
      ],
      "metadata": {
        "id": "bEGCMsMY-s8a",
        "colab": {
          "base_uri": "https://localhost:8080/"
        },
        "outputId": "a88dfd07-58eb-407e-ace5-64af9dfe3ea5"
      },
      "execution_count": null,
      "outputs": [
        {
          "output_type": "stream",
          "name": "stdout",
          "text": [
            "[(0.1, 0.9649122807017544), (0.01, 0.9649122807017544), (0.001, 0.9736842105263158), (0.0001, 0.9736842105263158)]\n"
          ]
        }
      ]
    },
    {
      "cell_type": "code",
      "source": [
        "plt.scatter([str(x) for x in alpha_list], acc_list)"
      ],
      "metadata": {
        "colab": {
          "base_uri": "https://localhost:8080/",
          "height": 285
        },
        "id": "k4ufBT67vuq9",
        "outputId": "719a0e00-ff43-437e-ff5e-1225a92e37af"
      },
      "execution_count": null,
      "outputs": [
        {
          "output_type": "execute_result",
          "data": {
            "text/plain": [
              "<matplotlib.collections.PathCollection at 0x7f349cbecbd0>"
            ]
          },
          "metadata": {},
          "execution_count": 22
        },
        {
          "output_type": "display_data",
          "data": {
            "text/plain": [
              "<Figure size 432x288 with 1 Axes>"
            ],
            "image/png": "[encoded data removed]"
          },
          "metadata": {
            "needs_background": "light"
          }
        }
      ]
    }
  ]
}